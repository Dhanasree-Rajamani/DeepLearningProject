{
  "nbformat": 4,
  "nbformat_minor": 0,
  "metadata": {
    "colab": {
      "provenance": []
    },
    "kernelspec": {
      "name": "python3",
      "display_name": "Python 3"
    },
    "language_info": {
      "name": "python"
    },
    "accelerator": "GPU",
    "gpuClass": "standard"
  },
  "cells": [
    {
      "cell_type": "code",
      "execution_count": null,
      "metadata": {
        "colab": {
          "base_uri": "https://localhost:8080/"
        },
        "id": "N5iD7KSVBqPw",
        "outputId": "94ce0bef-a806-4e74-8be3-e2db2af162de"
      },
      "outputs": [
        {
          "output_type": "stream",
          "name": "stdout",
          "text": [
            "Looking in indexes: https://pypi.org/simple, https://us-python.pkg.dev/colab-wheels/public/simple/\n",
            "Collecting tensorflow-addons\n",
            "  Downloading tensorflow_addons-0.20.0-cp310-cp310-manylinux_2_17_x86_64.manylinux2014_x86_64.whl (591 kB)\n",
            "\u001b[2K     \u001b[90m━━━━━━━━━━━━━━━━━━━━━━━━━━━━━━━━━━━━━━\u001b[0m \u001b[32m591.0/591.0 kB\u001b[0m \u001b[31m10.0 MB/s\u001b[0m eta \u001b[36m0:00:00\u001b[0m\n",
            "\u001b[?25hRequirement already satisfied: packaging in /usr/local/lib/python3.10/dist-packages (from tensorflow-addons) (23.1)\n",
            "Collecting typeguard<3.0.0,>=2.7\n",
            "  Downloading typeguard-2.13.3-py3-none-any.whl (17 kB)\n",
            "Installing collected packages: typeguard, tensorflow-addons\n",
            "Successfully installed tensorflow-addons-0.20.0 typeguard-2.13.3\n"
          ]
        }
      ],
      "source": [
        "!pip install -U tensorflow-addons"
      ]
    },
    {
      "cell_type": "markdown",
      "source": [
        "###Setup"
      ],
      "metadata": {
        "id": "JRxvxKV-Bz9f"
      }
    },
    {
      "cell_type": "code",
      "source": [
        "import numpy as np\n",
        "import tensorflow as tf\n",
        "from tensorflow import keras\n",
        "from tensorflow.keras import layers\n",
        "import tensorflow_addons as tfa"
      ],
      "metadata": {
        "colab": {
          "base_uri": "https://localhost:8080/"
        },
        "id": "LjAotWgfBw0I",
        "outputId": "fd7d9a37-1589-4d91-c421-07c665a09fb2"
      },
      "execution_count": null,
      "outputs": [
        {
          "output_type": "stream",
          "name": "stderr",
          "text": [
            "/usr/local/lib/python3.10/dist-packages/tensorflow_addons/utils/tfa_eol_msg.py:23: UserWarning: \n",
            "\n",
            "TensorFlow Addons (TFA) has ended development and introduction of new features.\n",
            "TFA has entered a minimal maintenance and release mode until a planned end of life in May 2024.\n",
            "Please modify downstream libraries to take dependencies from other repositories in our TensorFlow community (e.g. Keras, Keras-CV, and Keras-NLP). \n",
            "\n",
            "For more information see: https://github.com/tensorflow/addons/issues/2807 \n",
            "\n",
            "  warnings.warn(\n"
          ]
        }
      ]
    },
    {
      "cell_type": "code",
      "source": [
        "num_classes = 100\n",
        "input_shape = (32, 32, 3)\n",
        "\n",
        "(x_train, y_train), (x_test, y_test) = keras.datasets.cifar100.load_data()\n",
        "\n",
        "print(f\"x_train shape: {x_train.shape} - y_train shape: {y_train.shape}\")\n",
        "print(f\"x_test shape: {x_test.shape} - y_test shape: {y_test.shape}\")"
      ],
      "metadata": {
        "colab": {
          "base_uri": "https://localhost:8080/"
        },
        "id": "pRWbNFbnB2y-",
        "outputId": "dffa839f-c5f5-45b9-ed87-5694f95dbec1"
      },
      "execution_count": null,
      "outputs": [
        {
          "output_type": "stream",
          "name": "stdout",
          "text": [
            "Downloading data from https://www.cs.toronto.edu/~kriz/cifar-100-python.tar.gz\n",
            "169001437/169001437 [==============================] - 6s 0us/step\n",
            "x_train shape: (50000, 32, 32, 3) - y_train shape: (50000, 1)\n",
            "x_test shape: (10000, 32, 32, 3) - y_test shape: (10000, 1)\n"
          ]
        }
      ]
    },
    {
      "cell_type": "markdown",
      "source": [
        "###Configure the hyperparameters"
      ],
      "metadata": {
        "id": "c9TOddC_B7f-"
      }
    },
    {
      "cell_type": "code",
      "source": [
        "weight_decay = 0.0001\n",
        "batch_size = 128\n",
        "num_epochs = 50\n",
        "dropout_rate = 0.2\n",
        "image_size = 64  # We'll resize input images to this size.\n",
        "patch_size = 8  # Size of the patches to be extracted from the input images.\n",
        "num_patches = (image_size // patch_size) ** 2  # Size of the data array.\n",
        "embedding_dim = 256  # Number of hidden units.\n",
        "num_blocks = 4  # Number of blocks.\n",
        "\n",
        "print(f\"Image size: {image_size} X {image_size} = {image_size ** 2}\")\n",
        "print(f\"Patch size: {patch_size} X {patch_size} = {patch_size ** 2} \")\n",
        "print(f\"Patches per image: {num_patches}\")\n",
        "print(f\"Elements per patch (3 channels): {(patch_size ** 2) * 3}\")"
      ],
      "metadata": {
        "colab": {
          "base_uri": "https://localhost:8080/"
        },
        "id": "0K-KOfGvB5TE",
        "outputId": "3d12279e-bc42-42c6-cc9e-17cf75a0ada9"
      },
      "execution_count": null,
      "outputs": [
        {
          "output_type": "stream",
          "name": "stdout",
          "text": [
            "Image size: 64 X 64 = 4096\n",
            "Patch size: 8 X 8 = 64 \n",
            "Patches per image: 64\n",
            "Elements per patch (3 channels): 192\n"
          ]
        }
      ]
    },
    {
      "cell_type": "markdown",
      "source": [
        "###Build a classification model"
      ],
      "metadata": {
        "id": "IZMQnti4CCpW"
      }
    },
    {
      "cell_type": "code",
      "source": [
        "def build_classifier(blocks, positional_encoding=False):\n",
        "    inputs = layers.Input(shape=input_shape)\n",
        "    # Augment data.\n",
        "    augmented = data_augmentation(inputs)\n",
        "    # Create patches.\n",
        "    patches = Patches(patch_size, num_patches)(augmented)\n",
        "    # Encode patches to generate a [batch_size, num_patches, embedding_dim] tensor.\n",
        "    x = layers.Dense(units=embedding_dim)(patches)\n",
        "    if positional_encoding:\n",
        "        positions = tf.range(start=0, limit=num_patches, delta=1)\n",
        "        position_embedding = layers.Embedding(\n",
        "            input_dim=num_patches, output_dim=embedding_dim\n",
        "        )(positions)\n",
        "        x = x + position_embedding\n",
        "    # Process x using the module blocks.\n",
        "    x = blocks(x)\n",
        "    # Apply global average pooling to generate a [batch_size, embedding_dim] representation tensor.\n",
        "    representation = layers.GlobalAveragePooling1D()(x)\n",
        "    # Apply dropout.\n",
        "    representation = layers.Dropout(rate=dropout_rate)(representation)\n",
        "    # Compute logits outputs.\n",
        "    logits = layers.Dense(num_classes)(representation)\n",
        "    # Create the Keras model.\n",
        "    return keras.Model(inputs=inputs, outputs=logits)"
      ],
      "metadata": {
        "id": "1cpXQtczB-hR"
      },
      "execution_count": null,
      "outputs": []
    },
    {
      "cell_type": "markdown",
      "source": [
        "###Define an experiment\n",
        "We implement a utility function to compile, train, and evaluate a given model."
      ],
      "metadata": {
        "id": "bboXe9shCi7O"
      }
    },
    {
      "cell_type": "code",
      "source": [
        "def run_experiment(model):\n",
        "    # Create Adam optimizer with weight decay.\n",
        "    optimizer = tfa.optimizers.AdamW(\n",
        "        learning_rate=learning_rate, weight_decay=weight_decay,\n",
        "    )\n",
        "    # Compile the model.\n",
        "    model.compile(\n",
        "        optimizer=optimizer,\n",
        "        loss=keras.losses.SparseCategoricalCrossentropy(from_logits=True),\n",
        "        metrics=[\n",
        "            keras.metrics.SparseCategoricalAccuracy(name=\"acc\"),\n",
        "            keras.metrics.SparseTopKCategoricalAccuracy(5, name=\"top5-acc\"),\n",
        "        ],\n",
        "    )\n",
        "    # Create a learning rate scheduler callback.\n",
        "    reduce_lr = keras.callbacks.ReduceLROnPlateau(\n",
        "        monitor=\"val_loss\", factor=0.5, patience=5\n",
        "    )\n",
        "    # Create an early stopping callback.\n",
        "    early_stopping = tf.keras.callbacks.EarlyStopping(\n",
        "        monitor=\"val_loss\", patience=10, restore_best_weights=True\n",
        "    )\n",
        "    # Fit the model.\n",
        "    history = model.fit(\n",
        "        x=x_train,\n",
        "        y=y_train,\n",
        "        batch_size=batch_size,\n",
        "        epochs=num_epochs,\n",
        "        validation_split=0.1,\n",
        "        callbacks=[early_stopping, reduce_lr],\n",
        "    )\n",
        "\n",
        "    _, accuracy, top_5_accuracy = model.evaluate(x_test, y_test)\n",
        "    print(f\"Test accuracy: {round(accuracy * 100, 2)}%\")\n",
        "    print(f\"Test top 5 accuracy: {round(top_5_accuracy * 100, 2)}%\")\n",
        "\n",
        "    # Return history to plot learning curves.\n",
        "    return history"
      ],
      "metadata": {
        "id": "x4vUkGw7CGqP"
      },
      "execution_count": null,
      "outputs": []
    },
    {
      "cell_type": "markdown",
      "source": [
        "###Use data augmentation"
      ],
      "metadata": {
        "id": "NwqI5i16CoaF"
      }
    },
    {
      "cell_type": "code",
      "source": [
        "data_augmentation = keras.Sequential(\n",
        "    [\n",
        "        layers.Normalization(),\n",
        "        layers.Resizing(image_size, image_size),\n",
        "        layers.RandomFlip(\"horizontal\"),\n",
        "        layers.RandomZoom(\n",
        "            height_factor=0.2, width_factor=0.2\n",
        "        ),\n",
        "    ],\n",
        "    name=\"data_augmentation\",\n",
        ")\n",
        "# Compute the mean and the variance of the training data for normalization.\n",
        "data_augmentation.layers[0].adapt(x_train)"
      ],
      "metadata": {
        "id": "hCJ8l1dMCmR0"
      },
      "execution_count": null,
      "outputs": []
    },
    {
      "cell_type": "markdown",
      "source": [
        "###Implement patch extraction as a layer"
      ],
      "metadata": {
        "id": "YOnPrTi_CvGZ"
      }
    },
    {
      "cell_type": "code",
      "source": [
        "class Patches(layers.Layer):\n",
        "    def __init__(self, patch_size, num_patches):\n",
        "        super().__init__()\n",
        "        self.patch_size = patch_size\n",
        "        self.num_patches = num_patches\n",
        "\n",
        "    def call(self, images):\n",
        "        batch_size = tf.shape(images)[0]\n",
        "        patches = tf.image.extract_patches(\n",
        "            images=images,\n",
        "            sizes=[1, self.patch_size, self.patch_size, 1],\n",
        "            strides=[1, self.patch_size, self.patch_size, 1],\n",
        "            rates=[1, 1, 1, 1],\n",
        "            padding=\"VALID\",\n",
        "        )\n",
        "        patch_dims = patches.shape[-1]\n",
        "        patches = tf.reshape(patches, [batch_size, self.num_patches, patch_dims])\n",
        "        return patches"
      ],
      "metadata": {
        "id": "cG1jJqGACs8q"
      },
      "execution_count": null,
      "outputs": []
    },
    {
      "cell_type": "markdown",
      "source": [
        "###The MLP-Mixer model\n",
        "The MLP-Mixer is an architecture based exclusively on multi-layer perceptrons (MLPs), that contains two types of MLP layers:\n",
        "\n",
        "One applied independently to image patches, which mixes the per-location features.\n",
        "The other applied across patches (along channels), which mixes spatial information.\n",
        "This is similar to a depthwise separable convolution based model such as the Xception model, but with two chained dense transforms, no max pooling, and layer normalization instead of batch normalization."
      ],
      "metadata": {
        "id": "ibm9swQ2C0zw"
      }
    },
    {
      "cell_type": "code",
      "source": [
        "class MLPMixerLayer(layers.Layer):\n",
        "    def __init__(self, num_patches, hidden_units, dropout_rate, *args, **kwargs):\n",
        "        super().__init__(*args, **kwargs)\n",
        "\n",
        "        self.mlp1 = keras.Sequential(\n",
        "            [\n",
        "                layers.Dense(units=num_patches),\n",
        "                tfa.layers.GELU(),\n",
        "                layers.Dense(units=num_patches),\n",
        "                layers.Dropout(rate=dropout_rate),\n",
        "            ]\n",
        "        )\n",
        "        self.mlp2 = keras.Sequential(\n",
        "            [\n",
        "                layers.Dense(units=num_patches),\n",
        "                tfa.layers.GELU(),\n",
        "                layers.Dense(units=embedding_dim),\n",
        "                layers.Dropout(rate=dropout_rate),\n",
        "            ]\n",
        "        )\n",
        "        self.normalize = layers.LayerNormalization(epsilon=1e-6)\n",
        "\n",
        "    def call(self, inputs):\n",
        "        # Apply layer normalization.\n",
        "        x = self.normalize(inputs)\n",
        "        # Transpose inputs from [num_batches, num_patches, hidden_units] to [num_batches, hidden_units, num_patches].\n",
        "        x_channels = tf.linalg.matrix_transpose(x)\n",
        "        # Apply mlp1 on each channel independently.\n",
        "        mlp1_outputs = self.mlp1(x_channels)\n",
        "        # Transpose mlp1_outputs from [num_batches, hidden_dim, num_patches] to [num_batches, num_patches, hidden_units].\n",
        "        mlp1_outputs = tf.linalg.matrix_transpose(mlp1_outputs)\n",
        "        # Add skip connection.\n",
        "        x = mlp1_outputs + inputs\n",
        "        # Apply layer normalization.\n",
        "        x_patches = self.normalize(x)\n",
        "        # Apply mlp2 on each patch independtenly.\n",
        "        mlp2_outputs = self.mlp2(x_patches)\n",
        "        # Add skip connection.\n",
        "        x = x + mlp2_outputs\n",
        "        return x"
      ],
      "metadata": {
        "id": "CuQf8zESCyCJ"
      },
      "execution_count": null,
      "outputs": []
    },
    {
      "cell_type": "markdown",
      "source": [
        "* Build, train, and evaluate the MLP-Mixer model"
      ],
      "metadata": {
        "id": "t2pxG03-C7RF"
      }
    },
    {
      "cell_type": "code",
      "source": [
        "mlpmixer_blocks = keras.Sequential(\n",
        "    [MLPMixerLayer(num_patches, embedding_dim, dropout_rate) for _ in range(num_blocks)]\n",
        ")\n",
        "learning_rate = 0.005\n",
        "mlpmixer_classifier = build_classifier(mlpmixer_blocks)\n",
        "history = run_experiment(mlpmixer_classifier)"
      ],
      "metadata": {
        "colab": {
          "base_uri": "https://localhost:8080/"
        },
        "id": "-81pgxfTC5UF",
        "outputId": "dc6e917f-5704-4ff9-d957-c306fce492c0"
      },
      "execution_count": null,
      "outputs": [
        {
          "output_type": "stream",
          "name": "stdout",
          "text": [
            "Epoch 1/50\n",
            "352/352 [==============================] - 30s 59ms/step - loss: 3.8686 - acc: 0.1109 - top5-acc: 0.3174 - val_loss: 3.5127 - val_acc: 0.1712 - val_top5-acc: 0.4206 - lr: 0.0050\n",
            "Epoch 2/50\n",
            "352/352 [==============================] - 19s 55ms/step - loss: 3.3941 - acc: 0.1866 - top5-acc: 0.4547 - val_loss: 3.2150 - val_acc: 0.2238 - val_top5-acc: 0.5130 - lr: 0.0050\n",
            "Epoch 3/50\n",
            "352/352 [==============================] - 19s 54ms/step - loss: 3.1829 - acc: 0.2244 - top5-acc: 0.5105 - val_loss: 3.0572 - val_acc: 0.2562 - val_top5-acc: 0.5564 - lr: 0.0050\n",
            "Epoch 4/50\n",
            "352/352 [==============================] - 19s 53ms/step - loss: 3.0362 - acc: 0.2519 - top5-acc: 0.5492 - val_loss: 2.9398 - val_acc: 0.2818 - val_top5-acc: 0.5842 - lr: 0.0050\n",
            "Epoch 5/50\n",
            "352/352 [==============================] - 19s 55ms/step - loss: 2.9309 - acc: 0.2708 - top5-acc: 0.5760 - val_loss: 2.8648 - val_acc: 0.3010 - val_top5-acc: 0.6050 - lr: 0.0050\n",
            "Epoch 6/50\n",
            "352/352 [==============================] - 19s 55ms/step - loss: 2.8309 - acc: 0.2926 - top5-acc: 0.6000 - val_loss: 2.7580 - val_acc: 0.3210 - val_top5-acc: 0.6228 - lr: 0.0050\n",
            "Epoch 7/50\n",
            "352/352 [==============================] - 19s 54ms/step - loss: 2.7677 - acc: 0.3039 - top5-acc: 0.6142 - val_loss: 2.6746 - val_acc: 0.3400 - val_top5-acc: 0.6450 - lr: 0.0050\n",
            "Epoch 8/50\n",
            "352/352 [==============================] - 19s 54ms/step - loss: 2.7025 - acc: 0.3163 - top5-acc: 0.6300 - val_loss: 2.6849 - val_acc: 0.3362 - val_top5-acc: 0.6512 - lr: 0.0050\n",
            "Epoch 9/50\n",
            "352/352 [==============================] - 20s 56ms/step - loss: 2.6513 - acc: 0.3254 - top5-acc: 0.6417 - val_loss: 2.6457 - val_acc: 0.3374 - val_top5-acc: 0.6494 - lr: 0.0050\n",
            "Epoch 10/50\n",
            "352/352 [==============================] - 19s 55ms/step - loss: 2.6286 - acc: 0.3306 - top5-acc: 0.6470 - val_loss: 2.6071 - val_acc: 0.3580 - val_top5-acc: 0.6662 - lr: 0.0050\n",
            "Epoch 11/50\n",
            "352/352 [==============================] - 20s 56ms/step - loss: 2.5723 - acc: 0.3420 - top5-acc: 0.6610 - val_loss: 2.5249 - val_acc: 0.3690 - val_top5-acc: 0.6744 - lr: 0.0050\n",
            "Epoch 12/50\n",
            "352/352 [==============================] - 19s 54ms/step - loss: 2.5429 - acc: 0.3496 - top5-acc: 0.6660 - val_loss: 2.5136 - val_acc: 0.3668 - val_top5-acc: 0.6786 - lr: 0.0050\n",
            "Epoch 13/50\n",
            "352/352 [==============================] - 20s 56ms/step - loss: 2.5187 - acc: 0.3534 - top5-acc: 0.6736 - val_loss: 2.5280 - val_acc: 0.3644 - val_top5-acc: 0.6774 - lr: 0.0050\n",
            "Epoch 14/50\n",
            "352/352 [==============================] - 19s 55ms/step - loss: 2.4894 - acc: 0.3591 - top5-acc: 0.6768 - val_loss: 2.4874 - val_acc: 0.3772 - val_top5-acc: 0.6820 - lr: 0.0050\n",
            "Epoch 15/50\n",
            "352/352 [==============================] - 19s 55ms/step - loss: 2.4587 - acc: 0.3678 - top5-acc: 0.6847 - val_loss: 2.6023 - val_acc: 0.3576 - val_top5-acc: 0.6664 - lr: 0.0050\n",
            "Epoch 16/50\n",
            "352/352 [==============================] - 19s 55ms/step - loss: 2.4317 - acc: 0.3692 - top5-acc: 0.6901 - val_loss: 2.4455 - val_acc: 0.3836 - val_top5-acc: 0.6988 - lr: 0.0050\n",
            "Epoch 17/50\n",
            "352/352 [==============================] - 20s 57ms/step - loss: 2.4074 - acc: 0.3751 - top5-acc: 0.6946 - val_loss: 2.4007 - val_acc: 0.3946 - val_top5-acc: 0.7052 - lr: 0.0050\n",
            "Epoch 18/50\n",
            "352/352 [==============================] - 19s 55ms/step - loss: 2.3770 - acc: 0.3816 - top5-acc: 0.7024 - val_loss: 2.4459 - val_acc: 0.3852 - val_top5-acc: 0.7034 - lr: 0.0050\n",
            "Epoch 19/50\n",
            "352/352 [==============================] - 20s 56ms/step - loss: 2.3572 - acc: 0.3866 - top5-acc: 0.7075 - val_loss: 2.4080 - val_acc: 0.3958 - val_top5-acc: 0.7056 - lr: 0.0050\n",
            "Epoch 20/50\n",
            "352/352 [==============================] - 19s 55ms/step - loss: 2.3361 - acc: 0.3887 - top5-acc: 0.7115 - val_loss: 2.3627 - val_acc: 0.4030 - val_top5-acc: 0.7186 - lr: 0.0050\n",
            "Epoch 21/50\n",
            "352/352 [==============================] - 19s 54ms/step - loss: 2.3171 - acc: 0.3947 - top5-acc: 0.7147 - val_loss: 2.4208 - val_acc: 0.3922 - val_top5-acc: 0.7034 - lr: 0.0050\n",
            "Epoch 22/50\n",
            "352/352 [==============================] - 19s 55ms/step - loss: 2.3020 - acc: 0.3954 - top5-acc: 0.7168 - val_loss: 2.3838 - val_acc: 0.4006 - val_top5-acc: 0.7130 - lr: 0.0050\n",
            "Epoch 23/50\n",
            "352/352 [==============================] - 19s 54ms/step - loss: 2.2822 - acc: 0.4025 - top5-acc: 0.7216 - val_loss: 2.3387 - val_acc: 0.4098 - val_top5-acc: 0.7232 - lr: 0.0050\n",
            "Epoch 24/50\n",
            "352/352 [==============================] - 20s 56ms/step - loss: 2.2684 - acc: 0.4094 - top5-acc: 0.7245 - val_loss: 2.3354 - val_acc: 0.4102 - val_top5-acc: 0.7250 - lr: 0.0050\n",
            "Epoch 25/50\n",
            "352/352 [==============================] - 19s 55ms/step - loss: 2.2602 - acc: 0.4062 - top5-acc: 0.7275 - val_loss: 2.4058 - val_acc: 0.4108 - val_top5-acc: 0.7154 - lr: 0.0050\n",
            "Epoch 26/50\n",
            "352/352 [==============================] - 20s 56ms/step - loss: 2.2505 - acc: 0.4087 - top5-acc: 0.7282 - val_loss: 2.2999 - val_acc: 0.4250 - val_top5-acc: 0.7328 - lr: 0.0050\n",
            "Epoch 27/50\n",
            "352/352 [==============================] - 19s 55ms/step - loss: 2.2224 - acc: 0.4154 - top5-acc: 0.7322 - val_loss: 2.3713 - val_acc: 0.4110 - val_top5-acc: 0.7230 - lr: 0.0050\n",
            "Epoch 28/50\n",
            "352/352 [==============================] - 20s 56ms/step - loss: 2.2242 - acc: 0.4152 - top5-acc: 0.7337 - val_loss: 2.3133 - val_acc: 0.4106 - val_top5-acc: 0.7296 - lr: 0.0050\n",
            "Epoch 29/50\n",
            "352/352 [==============================] - 19s 55ms/step - loss: 2.2084 - acc: 0.4202 - top5-acc: 0.7361 - val_loss: 2.3340 - val_acc: 0.4142 - val_top5-acc: 0.7180 - lr: 0.0050\n",
            "Epoch 30/50\n",
            "352/352 [==============================] - 19s 55ms/step - loss: 2.2079 - acc: 0.4181 - top5-acc: 0.7376 - val_loss: 2.3041 - val_acc: 0.4174 - val_top5-acc: 0.7278 - lr: 0.0050\n",
            "Epoch 31/50\n",
            "352/352 [==============================] - 19s 55ms/step - loss: 2.1981 - acc: 0.4204 - top5-acc: 0.7392 - val_loss: 2.3061 - val_acc: 0.4226 - val_top5-acc: 0.7290 - lr: 0.0050\n",
            "Epoch 32/50\n",
            "352/352 [==============================] - 19s 54ms/step - loss: 1.9622 - acc: 0.4714 - top5-acc: 0.7849 - val_loss: 2.0893 - val_acc: 0.4632 - val_top5-acc: 0.7674 - lr: 0.0025\n",
            "Epoch 33/50\n",
            "352/352 [==============================] - 19s 54ms/step - loss: 1.9163 - acc: 0.4809 - top5-acc: 0.7910 - val_loss: 2.1091 - val_acc: 0.4598 - val_top5-acc: 0.7640 - lr: 0.0025\n",
            "Epoch 34/50\n",
            "352/352 [==============================] - 19s 54ms/step - loss: 1.9011 - acc: 0.4854 - top5-acc: 0.7931 - val_loss: 2.0713 - val_acc: 0.4624 - val_top5-acc: 0.7680 - lr: 0.0025\n",
            "Epoch 35/50\n",
            "352/352 [==============================] - 19s 53ms/step - loss: 1.8910 - acc: 0.4895 - top5-acc: 0.7952 - val_loss: 2.1493 - val_acc: 0.4538 - val_top5-acc: 0.7576 - lr: 0.0025\n",
            "Epoch 36/50\n",
            "352/352 [==============================] - 19s 54ms/step - loss: 1.8739 - acc: 0.4881 - top5-acc: 0.7974 - val_loss: 2.0626 - val_acc: 0.4696 - val_top5-acc: 0.7760 - lr: 0.0025\n",
            "Epoch 37/50\n",
            "352/352 [==============================] - 19s 53ms/step - loss: 1.8700 - acc: 0.4928 - top5-acc: 0.7993 - val_loss: 2.0811 - val_acc: 0.4654 - val_top5-acc: 0.7764 - lr: 0.0025\n",
            "Epoch 38/50\n",
            "352/352 [==============================] - 19s 54ms/step - loss: 1.8666 - acc: 0.4923 - top5-acc: 0.7988 - val_loss: 2.0458 - val_acc: 0.4724 - val_top5-acc: 0.7722 - lr: 0.0025\n",
            "Epoch 39/50\n",
            "352/352 [==============================] - 19s 53ms/step - loss: 1.8624 - acc: 0.4944 - top5-acc: 0.7995 - val_loss: 2.0185 - val_acc: 0.4726 - val_top5-acc: 0.7762 - lr: 0.0025\n",
            "Epoch 40/50\n",
            "352/352 [==============================] - 20s 56ms/step - loss: 1.8486 - acc: 0.5002 - top5-acc: 0.8013 - val_loss: 2.1278 - val_acc: 0.4628 - val_top5-acc: 0.7614 - lr: 0.0025\n",
            "Epoch 41/50\n",
            "352/352 [==============================] - 19s 55ms/step - loss: 1.8421 - acc: 0.4991 - top5-acc: 0.8058 - val_loss: 2.0593 - val_acc: 0.4708 - val_top5-acc: 0.7752 - lr: 0.0025\n",
            "Epoch 42/50\n",
            "352/352 [==============================] - 19s 55ms/step - loss: 1.8452 - acc: 0.4955 - top5-acc: 0.8042 - val_loss: 2.0643 - val_acc: 0.4732 - val_top5-acc: 0.7704 - lr: 0.0025\n",
            "Epoch 43/50\n",
            "352/352 [==============================] - 19s 53ms/step - loss: 1.8392 - acc: 0.4970 - top5-acc: 0.8049 - val_loss: 2.0455 - val_acc: 0.4746 - val_top5-acc: 0.7716 - lr: 0.0025\n",
            "Epoch 44/50\n",
            "352/352 [==============================] - 20s 56ms/step - loss: 1.8318 - acc: 0.4977 - top5-acc: 0.8041 - val_loss: 2.0869 - val_acc: 0.4672 - val_top5-acc: 0.7716 - lr: 0.0025\n",
            "Epoch 45/50\n",
            "352/352 [==============================] - 19s 55ms/step - loss: 1.7030 - acc: 0.5334 - top5-acc: 0.8270 - val_loss: 1.9791 - val_acc: 0.4824 - val_top5-acc: 0.7808 - lr: 0.0012\n",
            "Epoch 46/50\n",
            "352/352 [==============================] - 19s 54ms/step - loss: 1.6743 - acc: 0.5375 - top5-acc: 0.8305 - val_loss: 1.9523 - val_acc: 0.4952 - val_top5-acc: 0.7886 - lr: 0.0012\n",
            "Epoch 47/50\n",
            "352/352 [==============================] - 19s 53ms/step - loss: 1.6645 - acc: 0.5406 - top5-acc: 0.8354 - val_loss: 1.9576 - val_acc: 0.4894 - val_top5-acc: 0.7904 - lr: 0.0012\n",
            "Epoch 48/50\n",
            "352/352 [==============================] - 19s 54ms/step - loss: 1.6536 - acc: 0.5457 - top5-acc: 0.8359 - val_loss: 1.9630 - val_acc: 0.4900 - val_top5-acc: 0.7890 - lr: 0.0012\n",
            "Epoch 49/50\n",
            "352/352 [==============================] - 19s 53ms/step - loss: 1.6614 - acc: 0.5407 - top5-acc: 0.8367 - val_loss: 1.9543 - val_acc: 0.4898 - val_top5-acc: 0.7896 - lr: 0.0012\n",
            "Epoch 50/50\n",
            "352/352 [==============================] - 20s 56ms/step - loss: 1.6551 - acc: 0.5444 - top5-acc: 0.8361 - val_loss: 1.9402 - val_acc: 0.4974 - val_top5-acc: 0.7976 - lr: 0.0012\n",
            "313/313 [==============================] - 4s 11ms/step - loss: 1.8877 - acc: 0.5108 - top5-acc: 0.7915\n",
            "Test accuracy: 51.08%\n",
            "Test top 5 accuracy: 79.15%\n"
          ]
        }
      ]
    }
  ]
}