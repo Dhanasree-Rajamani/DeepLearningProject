{
  "nbformat": 4,
  "nbformat_minor": 0,
  "metadata": {
    "colab": {
      "provenance": []
    },
    "kernelspec": {
      "name": "python3",
      "display_name": "Python 3"
    },
    "language_info": {
      "name": "python"
    }
  },
  "cells": [
    {
      "cell_type": "markdown",
      "source": [
        "# 3 Layer Neural Network using pytorch built in fucntions."
      ],
      "metadata": {
        "id": "xadRo2l8PJzw"
      }
    },
    {
      "cell_type": "code",
      "source": [
        "import numpy as np\n",
        "import matplotlib.pyplot as plt\n",
        "import umap\n",
        "from mpl_toolkits.mplot3d import Axes3D"
      ],
      "metadata": {
        "id": "zp_FyFzPOkGv"
      },
      "execution_count": 1,
      "outputs": []
    },
    {
      "cell_type": "code",
      "source": [
        "!pip install umap-learn"
      ],
      "metadata": {
        "colab": {
          "base_uri": "https://localhost:8080/"
        },
        "id": "g36p1LK7QpNc",
        "outputId": "55deb2d2-e33b-41a1-f1eb-b6efc90bc5ff"
      },
      "execution_count": 2,
      "outputs": [
        {
          "output_type": "stream",
          "name": "stdout",
          "text": [
            "Looking in indexes: https://pypi.org/simple, https://us-python.pkg.dev/colab-wheels/public/simple/\n",
            "Requirement already satisfied: umap-learn in /usr/local/lib/python3.8/dist-packages (0.5.3)\n",
            "Requirement already satisfied: pynndescent>=0.5 in /usr/local/lib/python3.8/dist-packages (from umap-learn) (0.5.8)\n",
            "Requirement already satisfied: scikit-learn>=0.22 in /usr/local/lib/python3.8/dist-packages (from umap-learn) (1.0.2)\n",
            "Requirement already satisfied: numba>=0.49 in /usr/local/lib/python3.8/dist-packages (from umap-learn) (0.56.4)\n",
            "Requirement already satisfied: tqdm in /usr/local/lib/python3.8/dist-packages (from umap-learn) (4.64.1)\n",
            "Requirement already satisfied: scipy>=1.0 in /usr/local/lib/python3.8/dist-packages (from umap-learn) (1.7.3)\n",
            "Requirement already satisfied: numpy>=1.17 in /usr/local/lib/python3.8/dist-packages (from umap-learn) (1.22.4)\n",
            "Requirement already satisfied: llvmlite<0.40,>=0.39.0dev0 in /usr/local/lib/python3.8/dist-packages (from numba>=0.49->umap-learn) (0.39.1)\n",
            "Requirement already satisfied: importlib-metadata in /usr/local/lib/python3.8/dist-packages (from numba>=0.49->umap-learn) (6.0.0)\n",
            "Requirement already satisfied: setuptools in /usr/local/lib/python3.8/dist-packages (from numba>=0.49->umap-learn) (57.4.0)\n",
            "Requirement already satisfied: joblib>=0.11 in /usr/local/lib/python3.8/dist-packages (from pynndescent>=0.5->umap-learn) (1.2.0)\n",
            "Requirement already satisfied: threadpoolctl>=2.0.0 in /usr/local/lib/python3.8/dist-packages (from scikit-learn>=0.22->umap-learn) (3.1.0)\n",
            "Requirement already satisfied: zipp>=0.5 in /usr/local/lib/python3.8/dist-packages (from importlib-metadata->numba>=0.49->umap-learn) (3.14.0)\n"
          ]
        }
      ]
    },
    {
      "cell_type": "code",
      "source": [
        "n = 100\n",
        "d = 3\n",
        "\n",
        "x = np.random.uniform(-1, 1, (n, d))"
      ],
      "metadata": {
        "id": "fG_JYH8kNqr9"
      },
      "execution_count": 3,
      "outputs": []
    },
    {
      "cell_type": "markdown",
      "source": [
        "* Non Linear Equation"
      ],
      "metadata": {
        "id": "AOHCyLfMQE6k"
      }
    },
    {
      "cell_type": "code",
      "source": [
        "x = np.random.uniform(-1, 1, (n, 3))\n",
        "\n",
        "weights_true = np.array([[6, 1, 1],]).T\n",
        "bias_true = np.array([1])\n",
        "\n",
        "y_true = (x ** 3) @ weights_true + (x ** 2) @ weights_true + x @ weights_true + bias_true"
      ],
      "metadata": {
        "id": "YR5fuFNwPJHe"
      },
      "execution_count": 4,
      "outputs": []
    },
    {
      "cell_type": "code",
      "execution_count": 5,
      "metadata": {
        "colab": {
          "base_uri": "https://localhost:8080/"
        },
        "id": "ElpJAHFbNT8x",
        "outputId": "6ac32e73-476c-4ec4-a420-85bea69a3ffe"
      },
      "outputs": [
        {
          "output_type": "stream",
          "name": "stdout",
          "text": [
            "tensor(48.3566, grad_fn=<MseLossBackward0>)\n"
          ]
        }
      ],
      "source": [
        "import torch\n",
        "import torch.nn as nn\n",
        "\n",
        "\n",
        "class TorchModel(nn.Module):\n",
        "  def __init__(self, input_dim, num_hidden):\n",
        "    super().__init__()\n",
        "    self.linear1 = nn.Linear(input_dim, num_hidden)\n",
        "    self.relu = nn.ReLU()\n",
        "    self.linear2 = nn.Linear(num_hidden, 1)\n",
        "  \n",
        "  def forward(self, x):\n",
        "    l1 = self.linear1(x)\n",
        "    r = self.relu(l1)\n",
        "    l2 = self.linear2(r)\n",
        "    return l2\n",
        "\n",
        "\n",
        "loss = nn.MSELoss()\n",
        "model = TorchModel(d, 10)\n",
        "x_tensor = torch.tensor(x).float()\n",
        "y_true_tensor = torch.tensor(y_true).float()\n",
        "y_pred_tensor = model(x_tensor)\n",
        "loss_value = loss(y_pred_tensor, y_true_tensor)\n",
        "print(loss_value)"
      ]
    },
    {
      "cell_type": "code",
      "source": [
        "# Test just one forward and backward step\n",
        "optimizer = torch.optim.SGD(model.parameters(), lr=0.1)\n",
        "\n",
        "optimizer.zero_grad()\n",
        "y_pred_tensor = model(x_tensor)\n",
        "loss_value = loss(y_pred_tensor, y_true_tensor)\n",
        "print(loss_value)\n",
        "loss_gradient = loss_value.backward()\n",
        "optimizer.step()\n",
        "\n",
        "y_pred_tensor = model(x_tensor)\n",
        "loss_value = loss(y_pred_tensor, y_true_tensor)\n",
        "print(loss_value)"
      ],
      "metadata": {
        "colab": {
          "base_uri": "https://localhost:8080/"
        },
        "id": "WMy5nKwtQNM5",
        "outputId": "a470cd5c-0228-43c9-d413-4cb29dd4ddc1"
      },
      "execution_count": 6,
      "outputs": [
        {
          "output_type": "stream",
          "name": "stdout",
          "text": [
            "tensor(48.3566, grad_fn=<MseLossBackward0>)\n",
            "tensor(36.5343, grad_fn=<MseLossBackward0>)\n"
          ]
        }
      ]
    },
    {
      "cell_type": "code",
      "source": [
        "def plot_4d(X, y, y_pred=None):\n",
        " # Compute a 3D embedding of the data using UMAP\n",
        "  umap_3d = umap.UMAP(n_components=3)\n",
        "  X_umap_3d = umap_3d.fit_transform(X)\n",
        "  fig = plt.figure()\n",
        "  ax = fig.add_subplot(111, projection='3d')\n",
        "  ax.scatter(x[:, 0], x[:, 1], y, label='underlying function')\n",
        "  if y_pred is not None:\n",
        "    ax.scatter(x[:, 0], x[:, 1], y_pred, label='our function')\n",
        "  plt.legend()"
      ],
      "metadata": {
        "id": "gtwmbbMFQkT8"
      },
      "execution_count": 7,
      "outputs": []
    },
    {
      "cell_type": "code",
      "source": [
        "# Now we run the training loop\n",
        "from typing import Callable\n",
        "\n",
        "def torch_fit(x: np.ndarray, y: np.ndarray, model: Callable, loss: Callable, lr: float, num_epochs: int):\n",
        "  optimizer = torch.optim.SGD(model.parameters(), lr=lr)\n",
        "  for epoch in range(num_epochs):\n",
        "    optimizer.zero_grad()\n",
        "    y_pred_tensor = model(x_tensor)\n",
        "    loss_value = loss(y_pred_tensor, y_true_tensor)\n",
        "    print(loss_value)\n",
        "    loss_value.backward()\n",
        "    optimizer.step()\n",
        "\n",
        "torch_fit(x_tensor, y_true_tensor, model=model, loss=loss, lr=0.01, num_epochs=40)\n",
        "plot_4d(x, y_true, model(x_tensor).detach())"
      ],
      "metadata": {
        "colab": {
          "base_uri": "https://localhost:8080/",
          "height": 954
        },
        "id": "lTRQ6YiRQTN7",
        "outputId": "ad499a7f-d915-49a5-9ee9-16456a8b7507"
      },
      "execution_count": 8,
      "outputs": [
        {
          "output_type": "stream",
          "name": "stdout",
          "text": [
            "tensor(36.5343, grad_fn=<MseLossBackward0>)\n",
            "tensor(35.7090, grad_fn=<MseLossBackward0>)\n",
            "tensor(34.8463, grad_fn=<MseLossBackward0>)\n",
            "tensor(33.9436, grad_fn=<MseLossBackward0>)\n",
            "tensor(32.9971, grad_fn=<MseLossBackward0>)\n",
            "tensor(32.0087, grad_fn=<MseLossBackward0>)\n",
            "tensor(30.9794, grad_fn=<MseLossBackward0>)\n",
            "tensor(29.9071, grad_fn=<MseLossBackward0>)\n",
            "tensor(28.8009, grad_fn=<MseLossBackward0>)\n",
            "tensor(27.6561, grad_fn=<MseLossBackward0>)\n",
            "tensor(26.4850, grad_fn=<MseLossBackward0>)\n",
            "tensor(25.3048, grad_fn=<MseLossBackward0>)\n",
            "tensor(24.1165, grad_fn=<MseLossBackward0>)\n",
            "tensor(22.9316, grad_fn=<MseLossBackward0>)\n",
            "tensor(21.7527, grad_fn=<MseLossBackward0>)\n",
            "tensor(20.5877, grad_fn=<MseLossBackward0>)\n",
            "tensor(19.4403, grad_fn=<MseLossBackward0>)\n",
            "tensor(18.3183, grad_fn=<MseLossBackward0>)\n",
            "tensor(17.2301, grad_fn=<MseLossBackward0>)\n",
            "tensor(16.1795, grad_fn=<MseLossBackward0>)\n",
            "tensor(15.1896, grad_fn=<MseLossBackward0>)\n",
            "tensor(14.2825, grad_fn=<MseLossBackward0>)\n",
            "tensor(13.4347, grad_fn=<MseLossBackward0>)\n",
            "tensor(12.6290, grad_fn=<MseLossBackward0>)\n",
            "tensor(11.8693, grad_fn=<MseLossBackward0>)\n",
            "tensor(11.1499, grad_fn=<MseLossBackward0>)\n",
            "tensor(10.4706, grad_fn=<MseLossBackward0>)\n",
            "tensor(9.8352, grad_fn=<MseLossBackward0>)\n",
            "tensor(9.2385, grad_fn=<MseLossBackward0>)\n",
            "tensor(8.6762, grad_fn=<MseLossBackward0>)\n",
            "tensor(8.1503, grad_fn=<MseLossBackward0>)\n",
            "tensor(7.6543, grad_fn=<MseLossBackward0>)\n",
            "tensor(7.1940, grad_fn=<MseLossBackward0>)\n",
            "tensor(6.7663, grad_fn=<MseLossBackward0>)\n",
            "tensor(6.3721, grad_fn=<MseLossBackward0>)\n",
            "tensor(6.0072, grad_fn=<MseLossBackward0>)\n",
            "tensor(5.6667, grad_fn=<MseLossBackward0>)\n",
            "tensor(5.3548, grad_fn=<MseLossBackward0>)\n",
            "tensor(5.0654, grad_fn=<MseLossBackward0>)\n",
            "tensor(4.7986, grad_fn=<MseLossBackward0>)\n"
          ]
        },
        {
          "output_type": "display_data",
          "data": {
            "text/plain": [
              "<Figure size 432x288 with 1 Axes>"
            ],
            "image/png": "[encoded data removed]"
          },
          "metadata": {
            "needs_background": "light"
          }
        }
      ]
    }
  ]
}